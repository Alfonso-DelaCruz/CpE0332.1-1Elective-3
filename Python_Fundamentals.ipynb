{
  "cells": [
    {
      "cell_type": "markdown",
      "metadata": {
        "id": "view-in-github",
        "colab_type": "text"
      },
      "source": [
        "<a href=\"https://colab.research.google.com/github/Alfonso-DelaCruz/CpE0332.1-1Elective-3/blob/main/Python_Fundamentals.ipynb\" target=\"_parent\"><img src=\"https://colab.research.google.com/assets/colab-badge.svg\" alt=\"Open In Colab\"/></a>"
      ]
    },
    {
      "cell_type": "code",
      "execution_count": null,
      "metadata": {
        "id": "uwH3mfKBh6z0"
      },
      "outputs": [],
      "source": []
    },
    {
      "cell_type": "markdown",
      "metadata": {
        "id": "4QgVBCoejE3e"
      },
      "source": [
        "Python Indentation"
      ]
    },
    {
      "cell_type": "code",
      "execution_count": null,
      "metadata": {
        "colab": {
          "base_uri": "https://localhost:8080/"
        },
        "id": "SbUpmuX8jIKf",
        "outputId": "fbdd681c-65eb-4ef7-f5df-1fb38e2fcd84"
      },
      "outputs": [
        {
          "name": "stdout",
          "output_type": "stream",
          "text": [
            "Five is greater than two\n"
          ]
        }
      ],
      "source": [
        "x = 3\n",
        "y = 2\n",
        "if x > y:\n",
        "  print(\"Five is greater than two\")"
      ]
    },
    {
      "cell_type": "markdown",
      "metadata": {
        "id": "gmVzRVlYkqxb"
      },
      "source": [
        "Python Comment"
      ]
    },
    {
      "cell_type": "code",
      "execution_count": null,
      "metadata": {
        "colab": {
          "base_uri": "https://localhost:8080/"
        },
        "id": "txqvLfZNktoR",
        "outputId": "d0a109a8-17c7-40c7-edf3-6235bb2bc427"
      },
      "outputs": [
        {
          "name": "stdout",
          "output_type": "stream",
          "text": [
            "Hello World\n"
          ]
        }
      ],
      "source": [
        "print(\"Hello World\")"
      ]
    },
    {
      "cell_type": "markdown",
      "metadata": {
        "id": "qtvCm8X_k0uc"
      },
      "source": [
        "Python Variable"
      ]
    },
    {
      "cell_type": "code",
      "execution_count": null,
      "metadata": {
        "colab": {
          "base_uri": "https://localhost:8080/"
        },
        "id": "k6vddWJ0k4Lp",
        "outputId": "4abfbc30-1e56-4a2f-e21d-e6403586abf9"
      },
      "outputs": [
        {
          "data": {
            "text/plain": [
              "10"
            ]
          },
          "execution_count": 8,
          "metadata": {},
          "output_type": "execute_result"
        }
      ],
      "source": [
        "z = 1\n",
        "z,s = 0,-1\n",
        "z,s,t = 8,9,10\n",
        "z\n",
        "s\n",
        "t"
      ]
    },
    {
      "cell_type": "markdown",
      "metadata": {
        "id": "y02QkBPql1tp"
      },
      "source": [
        "Python Casting"
      ]
    },
    {
      "cell_type": "code",
      "execution_count": null,
      "metadata": {
        "colab": {
          "base_uri": "https://localhost:8080/"
        },
        "id": "r_YQGtMol__8",
        "outputId": "038323ff-770f-45ae-8003-f70e2acbbd6b"
      },
      "outputs": [
        {
          "data": {
            "text/plain": [
              "4.0"
            ]
          },
          "execution_count": 12,
          "metadata": {},
          "output_type": "execute_result"
        }
      ],
      "source": [
        "b = \"Sally\" #This is a string\n",
        "b = float(4)\n",
        "b"
      ]
    },
    {
      "cell_type": "markdown",
      "metadata": {
        "id": "4tOn5mYAmXi8"
      },
      "source": [
        "Python Type Function"
      ]
    },
    {
      "cell_type": "code",
      "execution_count": null,
      "metadata": {
        "colab": {
          "base_uri": "https://localhost:8080/"
        },
        "id": "9slPwrG3mcQb",
        "outputId": "192f28ef-d207-461f-cea7-d6ee991020ca"
      },
      "outputs": [
        {
          "name": "stdout",
          "output_type": "stream",
          "text": [
            "<class 'float'>\n"
          ]
        }
      ],
      "source": [
        "print(type(b))\n"
      ]
    },
    {
      "cell_type": "markdown",
      "metadata": {
        "id": "4GYU_6stm6qc"
      },
      "source": [
        "Double Quote and Single Quote"
      ]
    },
    {
      "cell_type": "code",
      "execution_count": null,
      "metadata": {
        "colab": {
          "base_uri": "https://localhost:8080/"
        },
        "id": "OhYuodRSm_Y-",
        "outputId": "3195e045-f15d-4083-ceee-083f5cf8d78b"
      },
      "outputs": [
        {
          "name": "stdout",
          "output_type": "stream",
          "text": [
            "Ana\n",
            "Ana\n"
          ]
        }
      ],
      "source": [
        "w = \"Ana\"\n",
        "print(w)\n",
        "q = 'Ana'\n",
        "print(q)"
      ]
    },
    {
      "cell_type": "markdown",
      "metadata": {
        "id": "xXxNQNwO2LXg"
      },
      "source": [
        "Case Sensitive"
      ]
    },
    {
      "cell_type": "code",
      "execution_count": null,
      "metadata": {
        "colab": {
          "base_uri": "https://localhost:8080/",
          "height": 35
        },
        "id": "-NWKBSmU22SH",
        "outputId": "5af61a84-17d0-47b1-cb3f-2d163a74019b"
      },
      "outputs": [
        {
          "data": {
            "application/vnd.google.colaboratory.intrinsic+json": {
              "type": "string"
            },
            "text/plain": [
              "'Sally'"
            ]
          },
          "execution_count": 15,
          "metadata": {},
          "output_type": "execute_result"
        }
      ],
      "source": [
        "a = int(4)\n",
        "A = \"Sally\"\n",
        "a\n",
        "A"
      ]
    },
    {
      "cell_type": "markdown",
      "metadata": {
        "id": "1ZIwTAaz22q0"
      },
      "source": [
        "Multiple Variables"
      ]
    },
    {
      "cell_type": "code",
      "execution_count": null,
      "metadata": {
        "colab": {
          "base_uri": "https://localhost:8080/"
        },
        "id": "ExRka09y3cGj",
        "outputId": "0f068636-6b29-44fb-a4e0-8c096095e42f"
      },
      "outputs": [
        {
          "name": "stdout",
          "output_type": "stream",
          "text": [
            "one\n",
            "two\n",
            "three\n"
          ]
        }
      ],
      "source": [
        "h, i,j= \"one\",'two',\"three\"\n",
        "print(h)\n",
        "print(i)\n",
        "print(j)"
      ]
    },
    {
      "cell_type": "markdown",
      "metadata": {
        "id": "coog_HuS3cbV"
      },
      "source": [
        "Multiple Variables with Single Value"
      ]
    },
    {
      "cell_type": "code",
      "execution_count": null,
      "metadata": {
        "colab": {
          "base_uri": "https://localhost:8080/"
        },
        "id": "7pmNrQa73oRP",
        "outputId": "57e59101-7ed1-4f31-b1a7-7f00f4da2f8d"
      },
      "outputs": [
        {
          "name": "stdout",
          "output_type": "stream",
          "text": [
            "four\n",
            "four\n",
            "four\n"
          ]
        }
      ],
      "source": [
        "k = l = m = \"four\"\n",
        "print(k)\n",
        "print(l)\n",
        "print(m)"
      ]
    },
    {
      "cell_type": "markdown",
      "metadata": {
        "id": "W3ipNEiG3omI"
      },
      "source": [
        "Output Variable and Concatenation +"
      ]
    },
    {
      "cell_type": "code",
      "execution_count": null,
      "metadata": {
        "colab": {
          "base_uri": "https://localhost:8080/"
        },
        "id": "UcpcGqmW3tzp",
        "outputId": "024b92b2-f013-4c40-b440-f28c51b07a69"
      },
      "outputs": [
        {
          "name": "stdout",
          "output_type": "stream",
          "text": [
            "Python programming isenjoying\n"
          ]
        }
      ],
      "source": [
        "n = \"enjoying\"\n",
        "p = \"Python programming is\"\n",
        "print(p+n)"
      ]
    },
    {
      "cell_type": "markdown",
      "metadata": {
        "id": "lbu2-UJo3uBT"
      },
      "source": [
        "Arithmetic Operations"
      ]
    },
    {
      "cell_type": "code",
      "execution_count": null,
      "metadata": {
        "colab": {
          "base_uri": "https://localhost:8080/"
        },
        "id": "gM9Yjf4D3xB4",
        "outputId": "49e02113-7ccf-4e0c-f402-21182426dfdc"
      },
      "outputs": [
        {
          "name": "stdout",
          "output_type": "stream",
          "text": [
            "5\n",
            "1\n",
            "6\n",
            "2 2\n",
            "1\n",
            "1\n",
            "9\n"
          ]
        }
      ],
      "source": [
        "print(x+y)  #Addition\n",
        "print(x-y)  #Subtraction\n",
        "print(x*y)  #Multiplication\n",
        "print(round(5/3),2)  #Division\n",
        "print(x//y) #Floor Division\n",
        "print(x%y)  #Modulus\n",
        "print(x**y) #Exponentiation"
      ]
    },
    {
      "cell_type": "markdown",
      "metadata": {
        "id": "o8SrmZfw3xcI"
      },
      "source": [
        "Assignment Operator"
      ]
    },
    {
      "cell_type": "code",
      "execution_count": null,
      "metadata": {
        "colab": {
          "base_uri": "https://localhost:8080/"
        },
        "id": "Rzj-lAqS302O",
        "outputId": "5a8f53db-d823-4ca1-86d0-b5b9ab483ba3"
      },
      "outputs": [
        {
          "name": "stdout",
          "output_type": "stream",
          "text": [
            "6\n"
          ]
        }
      ],
      "source": [
        "x+=3  #same as x = x+3\n",
        "print(x)"
      ]
    },
    {
      "cell_type": "markdown",
      "metadata": {
        "id": "YmOFDTRP31GU"
      },
      "source": [
        "Comparison Operator"
      ]
    },
    {
      "cell_type": "code",
      "execution_count": null,
      "metadata": {
        "colab": {
          "base_uri": "https://localhost:8080/"
        },
        "id": "HoTW85p94FBx",
        "outputId": "dfff8f9a-b3af-4c94-a1e0-72c220fa6fab"
      },
      "outputs": [
        {
          "data": {
            "text/plain": [
              "False"
            ]
          },
          "execution_count": 24,
          "metadata": {},
          "output_type": "execute_result"
        }
      ],
      "source": [
        "False\n",
        "True\n",
        "True\n",
        "False"
      ]
    },
    {
      "cell_type": "markdown",
      "metadata": {
        "id": "nUChPX094Feo"
      },
      "source": [
        "Logical Operators"
      ]
    },
    {
      "cell_type": "code",
      "execution_count": null,
      "metadata": {
        "colab": {
          "base_uri": "https://localhost:8080/"
        },
        "id": "mtAlrKAL4Haj",
        "outputId": "40733e8f-f75f-4f1f-bd7c-1339f624c585"
      },
      "outputs": [
        {
          "name": "stdout",
          "output_type": "stream",
          "text": [
            "False\n",
            "True\n",
            "False\n"
          ]
        }
      ],
      "source": [
        "print(x==y and x!=y) #False and True\n",
        "print(x==y or x!=y) # False or True\n",
        "print(not(x==y or x!=y))#negate(False or True)\n"
      ]
    },
    {
      "cell_type": "markdown",
      "metadata": {
        "id": "kk5cvhNA4Hr_"
      },
      "source": [
        "Identity Operators"
      ]
    },
    {
      "cell_type": "code",
      "execution_count": null,
      "metadata": {
        "colab": {
          "base_uri": "https://localhost:8080/"
        },
        "id": "ZPhbPTM14JmV",
        "outputId": "06aba816-268b-40df-f429-9510add3cfa3"
      },
      "outputs": [
        {
          "data": {
            "text/plain": [
              "True"
            ]
          },
          "execution_count": 26,
          "metadata": {},
          "output_type": "execute_result"
        }
      ],
      "source": [
        "x is y  #x=3, y=2\n",
        "x is not y"
      ]
    },
    {
      "cell_type": "markdown",
      "metadata": {
        "id": "MfGG6iyn4J1_"
      },
      "source": [
        "Bitwise Operators"
      ]
    },
    {
      "cell_type": "code",
      "execution_count": null,
      "metadata": {
        "colab": {
          "base_uri": "https://localhost:8080/"
        },
        "id": "eVhft5-24MdJ",
        "outputId": "b7af2580-807a-40e2-9d12-13d4644aff5a"
      },
      "outputs": [
        {
          "name": "stdout",
          "output_type": "stream",
          "text": [
            "11\n",
            "3\n"
          ]
        }
      ],
      "source": [
        "#10 +1 = 11     ; 1010 + 0001 = 1011\n",
        "print(10 | 1)\n",
        "\n",
        "print(x>>1)   #x=3 , 011"
      ]
    },
    {
      "cell_type": "markdown",
      "metadata": {
        "id": "xZdBlupn46uT"
      },
      "source": [
        "Application 1"
      ]
    },
    {
      "cell_type": "code",
      "execution_count": null,
      "metadata": {
        "colab": {
          "background_save": true
        },
        "id": "cacGF3w348OE"
      },
      "outputs": [],
      "source": [
        "#Create a Python program that displays your Fullname, Age, and Course and Section"
      ]
    },
    {
      "cell_type": "code",
      "source": [
        "def display_info():\n",
        "    fullname = \"Alfonso Rafael C. Dela Cruz\"\n",
        "    age = 23\n",
        "    course_and_section = \"4th Year, Bachelors in Computer Engineering, Section 1\"\n",
        "\n",
        "    print(\"Fullname: \", fullname)\n",
        "    print(\"Age: \", age)\n",
        "    print(\"Course and Section: \", course_and_section)\n",
        "\n",
        "# Call the function to display the information\n",
        "display_info()"
      ],
      "metadata": {
        "colab": {
          "base_uri": "https://localhost:8080/"
        },
        "id": "VTEohv4w6HNl",
        "outputId": "6597b7bf-fbb9-46e9-af72-990e787c42b0"
      },
      "execution_count": 30,
      "outputs": [
        {
          "output_type": "stream",
          "name": "stdout",
          "text": [
            "Fullname:  Alfonso Rafael C. Dela Cruz\n",
            "Age:  23\n",
            "Course and Section:  4th Year, Bachelors in Computer Engineering, Section 1\n"
          ]
        }
      ]
    }
  ],
  "metadata": {
    "colab": {
      "provenance": [],
      "authorship_tag": "ABX9TyMhHg23iMovfKkPXrC0f4c0",
      "include_colab_link": true
    },
    "kernelspec": {
      "display_name": "Python 3",
      "name": "python3"
    },
    "language_info": {
      "name": "python"
    }
  },
  "nbformat": 4,
  "nbformat_minor": 0
}
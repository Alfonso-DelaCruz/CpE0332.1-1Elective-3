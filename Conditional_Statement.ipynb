{
  "nbformat": 4,
  "nbformat_minor": 0,
  "metadata": {
    "colab": {
      "provenance": [],
      "authorship_tag": "ABX9TyMJ5q0EJpttlw1kuIN0yT5Q",
      "include_colab_link": true
    },
    "kernelspec": {
      "name": "python3",
      "display_name": "Python 3"
    },
    "language_info": {
      "name": "python"
    }
  },
  "cells": [
    {
      "cell_type": "markdown",
      "metadata": {
        "id": "view-in-github",
        "colab_type": "text"
      },
      "source": [
        "<a href=\"https://colab.research.google.com/github/Alfonso-DelaCruz/CpE0332.1-1Elective-3/blob/main/Conditional_Statement.ipynb\" target=\"_parent\"><img src=\"https://colab.research.google.com/assets/colab-badge.svg\" alt=\"Open In Colab\"/></a>"
      ]
    },
    {
      "cell_type": "markdown",
      "source": [
        "If Statement"
      ],
      "metadata": {
        "id": "g-h64Xj9KDEb"
      }
    },
    {
      "cell_type": "code",
      "source": [
        "a = 12\n",
        "b = 100\n",
        "\n",
        "if a<b:\n",
        "  print('a is less than b')"
      ],
      "metadata": {
        "colab": {
          "base_uri": "https://localhost:8080/"
        },
        "id": "S5c-ovY7MKqA",
        "outputId": "91b7ad6d-30fb-4541-c3ea-1b77157b767d"
      },
      "execution_count": 11,
      "outputs": [
        {
          "output_type": "stream",
          "name": "stdout",
          "text": [
            "a is less than b\n"
          ]
        }
      ]
    },
    {
      "cell_type": "markdown",
      "source": [
        "Elif Statement"
      ],
      "metadata": {
        "id": "KlHO-mCLMLm-"
      }
    },
    {
      "cell_type": "code",
      "source": [
        "print(\"Enter your age:\")\n",
        "age = int(input())\n",
        "if age>=18:\n",
        "  print(\"You are qualified to get a license\")\n",
        "elif age<18:\n",
        "  print(\"You are not qualified to get a license\")"
      ],
      "metadata": {
        "colab": {
          "base_uri": "https://localhost:8080/"
        },
        "id": "TnlHH1IJMOfa",
        "outputId": "1bd3a2bf-e2a2-4f6e-e31d-0f9092b5d709"
      },
      "execution_count": 2,
      "outputs": [
        {
          "output_type": "stream",
          "name": "stdout",
          "text": [
            "Enter your age:\n",
            "23\n",
            "You are qualified to get a license\n"
          ]
        }
      ]
    },
    {
      "cell_type": "code",
      "source": [
        "print(\"Enter an integer:\")\n",
        "x = int(input())\n",
        "if x > 0:\n",
        "  print(\"Positive number\")\n",
        "elif x<0:\n",
        "  print(\"Negative number\")\n",
        "else:\n",
        "  print(\"Zero\")"
      ],
      "metadata": {
        "colab": {
          "base_uri": "https://localhost:8080/"
        },
        "id": "iByDR1lIMYFQ",
        "outputId": "c76c405d-8ad1-42ad-b3bb-a703e2a3291e"
      },
      "execution_count": 3,
      "outputs": [
        {
          "output_type": "stream",
          "name": "stdout",
          "text": [
            "Enter an integer:\n",
            "5\n",
            "Positive number\n"
          ]
        }
      ]
    },
    {
      "cell_type": "markdown",
      "source": [
        "Short Hand If Statement"
      ],
      "metadata": {
        "id": "S6dUkLmwMfxp"
      }
    },
    {
      "cell_type": "code",
      "source": [
        "if a<b: print('a is less than b')"
      ],
      "metadata": {
        "colab": {
          "base_uri": "https://localhost:8080/"
        },
        "id": "ZU4m9hRANGfC",
        "outputId": "3c906b43-40af-4bc1-898f-e8119e6cd98f"
      },
      "execution_count": 13,
      "outputs": [
        {
          "output_type": "stream",
          "name": "stdout",
          "text": [
            "a is less than b\n"
          ]
        }
      ]
    },
    {
      "cell_type": "markdown",
      "source": [
        "Short Hand If..Else Statement"
      ],
      "metadata": {
        "id": "7RDSHk_nNFqw"
      }
    },
    {
      "cell_type": "code",
      "source": [
        "print(\"a is greater than b\") if a>b else print(\"b is greater than a\")"
      ],
      "metadata": {
        "colab": {
          "base_uri": "https://localhost:8080/"
        },
        "id": "SLgWVIU3NG-o",
        "outputId": "f00a3558-1ac7-48e7-848a-53d4a9ffc773"
      },
      "execution_count": 14,
      "outputs": [
        {
          "output_type": "stream",
          "name": "stdout",
          "text": [
            "b is greater than a\n"
          ]
        }
      ]
    },
    {
      "cell_type": "markdown",
      "source": [
        "And Statement"
      ],
      "metadata": {
        "id": "dtevf7M4NsUS"
      }
    },
    {
      "cell_type": "code",
      "source": [
        "c = 500\n",
        "if a <b and c>a:\n",
        "  print(\"both statements are true\")"
      ],
      "metadata": {
        "colab": {
          "base_uri": "https://localhost:8080/"
        },
        "id": "BCJbmRraNuYt",
        "outputId": "a9ce9b4a-9db2-49a7-ac7a-71e4e4dfd091"
      },
      "execution_count": 16,
      "outputs": [
        {
          "output_type": "stream",
          "name": "stdout",
          "text": [
            "both statements are true\n"
          ]
        }
      ]
    },
    {
      "cell_type": "markdown",
      "source": [
        "Or Statement"
      ],
      "metadata": {
        "id": "RghdyKSTNyE4"
      }
    },
    {
      "cell_type": "code",
      "source": [
        "if a <b or c>a:\n",
        "  print(\"both statements are true\")"
      ],
      "metadata": {
        "colab": {
          "base_uri": "https://localhost:8080/"
        },
        "id": "smOphCttNzpM",
        "outputId": "735317d7-456a-4bcf-c969-5a56f39e09bb"
      },
      "execution_count": 17,
      "outputs": [
        {
          "output_type": "stream",
          "name": "stdout",
          "text": [
            "both statements are true\n"
          ]
        }
      ]
    },
    {
      "cell_type": "markdown",
      "source": [
        "Nested If Statement"
      ],
      "metadata": {
        "id": "_K4HVvmwN3uI"
      }
    },
    {
      "cell_type": "code",
      "source": [
        "print (\"Enter ang integer:\")\n",
        "x = 28\n",
        "if x>10:\n",
        "  print(\"above 10\")\n",
        "  if x>20:\n",
        "    print('and also above 20')\n",
        "    if x >30:\n",
        "      print('and also above 30')\n",
        "      if x>40:\n",
        "        print('and also above 40')\n",
        "        if x>50:\n",
        "          print ('and also above 50')\n",
        "        else:\n",
        "          print('not above 50')\n",
        "      else:\n",
        "        print('not above 40')\n",
        "    else:\n",
        "      print('not above 30')"
      ],
      "metadata": {
        "colab": {
          "base_uri": "https://localhost:8080/"
        },
        "id": "FjtJRoOiN5Oo",
        "outputId": "f744c05e-6b71-4598-a93b-cdc5bccb45e5"
      },
      "execution_count": 10,
      "outputs": [
        {
          "output_type": "stream",
          "name": "stdout",
          "text": [
            "Enter ang integer:\n",
            "above 10\n",
            "and also above 20\n",
            "not above 30\n"
          ]
        }
      ]
    },
    {
      "cell_type": "markdown",
      "source": [
        "Application 2"
      ],
      "metadata": {
        "id": "SIOkMCwPObw5"
      }
    },
    {
      "cell_type": "markdown",
      "source": [
        "Write a program to determine if the grades are:\n",
        "\n",
        "\tIf:\n",
        "\t\t grade > = 75 , “Passed”\n",
        "\t\tgrade = 74, “Remedial”\n",
        "\t\tgrade < 74, “Failed”\n",
        "\t\tnote: if grade is a negative number, it will not accepted\n"
      ],
      "metadata": {
        "id": "bnaPunTbPz51"
      }
    },
    {
      "cell_type": "code",
      "source": [
        "def evaluate_grade(grade):\n",
        "    if grade < 0:\n",
        "        print(\"Grade cannot be a negative number.\")\n",
        "    elif grade >= 75:\n",
        "        print(\"Passed\")\n",
        "    elif grade == 74:\n",
        "        print(\"Remedial\")\n",
        "    else:\n",
        "        print(\"Failed\")\n",
        "\n",
        "# Example usage\n",
        "try:\n",
        "    grade = float(input(\"Enter the grade: \"))\n",
        "    evaluate_grade(grade)\n",
        "except ValueError:\n",
        "    print(\"Invalid input. Please enter a numerical value for the grade.\")"
      ],
      "metadata": {
        "id": "QJKindCEP06Y"
      },
      "execution_count": 21,
      "outputs": []
    }
  ]
}